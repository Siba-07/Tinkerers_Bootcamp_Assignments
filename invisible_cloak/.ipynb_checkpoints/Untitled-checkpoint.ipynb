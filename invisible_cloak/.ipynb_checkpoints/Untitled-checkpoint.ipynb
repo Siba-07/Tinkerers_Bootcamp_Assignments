{
 "cells": [
  {
   "cell_type": "code",
   "execution_count": 7,
   "metadata": {},
   "outputs": [],
   "source": [
    "import cv2\n",
    "import numpy as np\n",
    "import time"
   ]
  },
  {
   "cell_type": "code",
   "execution_count": 10,
   "metadata": {},
   "outputs": [],
   "source": [
    "cap = cv2.VideoCapture(0)\n",
    "time.sleep(3)\n",
    "background = 0\n",
    "\n",
    "for i in range(60):\n",
    "    ret, background = cap.read()\n",
    "\n",
    "while(True):\n",
    "    \n",
    "    ret, frame = cap.read()\n",
    "    hsv = cv2.cvtColor(frame, cv2.COLOR_BGR2HSV)\n",
    "    \n",
    "    lower_red = np.array([0,70,50])\n",
    "    upper_red = np.array([10,255,255])\n",
    "    \n",
    "    maskA = cv2.inRange(hsv, lower_red, upper_red)\n",
    "    \n",
    "    lower_red = np.array([170,70,50])\n",
    "    upper_red = np.array([180,255,255])\n",
    "    \n",
    "    maskB = cv2.inRange(hsv, lower_red, upper_red)\n",
    "    \n",
    "    mask = maskA + maskB\n",
    "    \n",
    "    \n",
    "    res = cv2.bitwise_and(frame,frame, mask= mask)\n",
    "    \n",
    "    mask = cv2.morphologyEx(mask, cv2.MORPH_OPEN, np.ones((3, 3), np.uint8))\n",
    "    mask = cv2.morphologyEx(mask, cv2.MORPH_DILATE, np.ones((3, 3), np.uint8))\n",
    "    \n",
    "    mask2 = cv2.bitwise_not(mask)\n",
    "    \n",
    "    res1 = cv2.bitwise_and(frame, frame, mask=mask2)\n",
    "    res2 = cv2.bitwise_and(background, background, mask=mask)\n",
    "    finalOutput = cv2.addWeighted(res1, 1, res2, 1, 0)\n",
    "\n",
    "    cv2.imshow(\"magic\", finalOutput)\n",
    "    cv2.imshow('mask',res2)\n",
    "    \n",
    "    if cv2.waitKey(1) & 0xFF == ord('q'):\n",
    "        break\n",
    "    \n",
    "cap.release() #release the camera to be able to use it again\n",
    "cv2.destroyAllWindows()\n",
    "    "
   ]
  },
  {
   "cell_type": "code",
   "execution_count": null,
   "metadata": {},
   "outputs": [],
   "source": []
  }
 ],
 "metadata": {
  "kernelspec": {
   "display_name": "Python 3",
   "language": "python",
   "name": "python3"
  },
  "language_info": {
   "codemirror_mode": {
    "name": "ipython",
    "version": 3
   },
   "file_extension": ".py",
   "mimetype": "text/x-python",
   "name": "python",
   "nbconvert_exporter": "python",
   "pygments_lexer": "ipython3",
   "version": "3.8.5"
  }
 },
 "nbformat": 4,
 "nbformat_minor": 4
}
