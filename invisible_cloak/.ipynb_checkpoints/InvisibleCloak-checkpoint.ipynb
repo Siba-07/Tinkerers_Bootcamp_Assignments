{
 "cells": [
  {
   "cell_type": "code",
   "execution_count": 1,
   "metadata": {},
   "outputs": [],
   "source": [
    "#Submitted by - Sibasis Nayak\n",
    "#As a part of assignment of Tinkering Bootcamp"
   ]
  },
  {
   "cell_type": "code",
   "execution_count": 2,
   "metadata": {},
   "outputs": [],
   "source": [
    "import cv2\n",
    "import numpy as np\n",
    "import time"
   ]
  },
  {
   "cell_type": "code",
   "execution_count": 4,
   "metadata": {},
   "outputs": [],
   "source": [
    "#start the videocapture\n",
    "cap = cv2.VideoCapture(0)\n",
    "\n",
    "#buy some time so that the camera starts\n",
    "time.sleep(3)\n",
    "\n",
    "#initially we are going to store the view of the background without the person in front\n",
    "\n",
    "background = 0\n",
    "for i in range(60):\n",
    "    ret, background = cap.read()\n",
    "\n",
    "\n",
    "while(True):\n",
    "    \n",
    "    #we transform the captured image into hsv format to be able to pick a colour\n",
    "    ret, frame = cap.read()\n",
    "    hsv = cv2.cvtColor(frame, cv2.COLOR_BGR2HSV)\n",
    "    \n",
    "    #we make a mask to detect blue colour\n",
    "    #the lower_blue and upper_blue determine the ranges of the hsv value to be detected\n",
    "    #(they have been set to a blue range)\n",
    "    \n",
    "    lower_blue = np.array([100,150,0])\n",
    "    upper_blue = np.array([140,255,255])\n",
    "    mask = cv2.inRange(hsv, lower_blue, upper_blue)\n",
    "    \n",
    "    \n",
    "    #res = cv2.bitwise_and(frame,frame, mask= mask) ... Used this to check that the mask is working\n",
    "    #we do some morphological transformations for better o/p\n",
    "    #out of the various tried transformations this combination seemed better\n",
    "    #open removes the false positives and then we can again dilate the mask for better accuracy\n",
    "    \n",
    "    mask = cv2.morphologyEx(mask, cv2.MORPH_OPEN, np.ones((3, 3), np.uint8))\n",
    "    mask = cv2.morphologyEx(mask, cv2.MORPH_DILATE, np.ones((3, 3), np.uint8))\n",
    "    \n",
    "    #now we build an inverse mask to pick out everything else except blue colour\n",
    "    invmask = cv2.bitwise_not(mask)\n",
    "    \n",
    "    #pick everything except the blue part from the frame using inverse mask\n",
    "    res1 = cv2.bitwise_and(frame, frame, mask=invmask)\n",
    "    \n",
    "    #pick the blue part from the previously stored background image\n",
    "    res2 = cv2.bitwise_and(background, background, mask=mask)\n",
    "    \n",
    "    #merge the res1 and res2 so we have blue part replaced by the background image \n",
    "    finalOutput = cv2.addWeighted(res1, 1, res2, 1, 0)\n",
    "\n",
    "    cv2.imshow(\"Invisible Cloak\", finalOutput)\n",
    "    \n",
    "    #press q to exit the loop\n",
    "    if cv2.waitKey(1) & 0xFF == ord('q'):\n",
    "        break\n",
    "#after you are out of the loop close the camera and close all the opened windows\n",
    "cap.release() \n",
    "cv2.destroyAllWindows()\n",
    "\n",
    "#Ig it's done just show it to your younger siblings and enjoy xD\n",
    "    "
   ]
  },
  {
   "cell_type": "code",
   "execution_count": null,
   "metadata": {},
   "outputs": [],
   "source": []
  }
 ],
 "metadata": {
  "kernelspec": {
   "display_name": "Python 3",
   "language": "python",
   "name": "python3"
  },
  "language_info": {
   "codemirror_mode": {
    "name": "ipython",
    "version": 3
   },
   "file_extension": ".py",
   "mimetype": "text/x-python",
   "name": "python",
   "nbconvert_exporter": "python",
   "pygments_lexer": "ipython3",
   "version": "3.8.5"
  }
 },
 "nbformat": 4,
 "nbformat_minor": 4
}
